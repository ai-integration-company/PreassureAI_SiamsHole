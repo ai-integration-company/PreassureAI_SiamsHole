{
 "cells": [
  {
   "cell_type": "code",
   "execution_count": null,
   "metadata": {},
   "outputs": [],
   "source": [
    "import os\n",
    "import sys\n",
    "import time\n",
    "import glob\n",
    "import re\n",
    "import json\n",
    "\n",
    "import pandas as pd\n",
    "import numpy as np\n",
    "\n",
    "import torch\n",
    "from torch import nn\n",
    "import torch.nn.functional as F\n",
    "from torch.utils.data import Dataset, DataLoader, random_split\n",
    "import torch.optim as optim\n",
    "from torch.optim.lr_scheduler import StepLR\n",
    "\n",
    "from torchvision import models, transforms\n",
    "\n",
    "from accelerate import Accelerator\n",
    "\n",
    "from sklearn.model_selection import train_test_split\n",
    "from sklearn.metrics import mean_squared_error, r2_score\n",
    "from sklearn.metrics import accuracy_score, f1_score\n",
    "\n",
    "import seaborn as sns\n",
    "from matplotlib import pyplot as plt\n",
    "\n",
    "from tqdm import tqdm\n",
    "\n",
    "import cv2\n",
    "from PIL import Image, ImageChops\n",
    "\n",
    "import zipfile"
   ]
  },
  {
   "cell_type": "markdown",
   "metadata": {},
   "source": [
    "# Dataset"
   ]
  },
  {
   "cell_type": "code",
   "execution_count": null,
   "metadata": {},
   "outputs": [],
   "source": [
    "class ImageBinaryDataset(Dataset):\n",
    "    def __init__(self, image_dir = 'TriKotaiNarkota/TriKotaiNarkota', transform=None):\n",
    "        \n",
    "        self.image_dir = image_dir\n",
    "        if transform is None:\n",
    "            self.transform = transforms.Compose([\n",
    "                transforms.Resize((256, 256)),  # Изменяем размер до 256x256\n",
    "                # transforms.Grayscale(num_output_channels=1),\n",
    "                transforms.ToTensor()           # Преобразуем в тензор с диапазоном [0, 1]\n",
    "            ])\n",
    "        else:\n",
    "            self.transform = transform\n",
    "\n",
    "        # Columns for binary labels\n",
    "        self.label_columns = [\n",
    "            \"Некачественное ГДИС\", \"Влияние ствола скважины\", \"Радиальный режим\",\n",
    "            \"Линейный режим\", \"Билинейный режим\", \"Сферический режим\",\n",
    "            \"Граница постоянного давления\", \"Граница непроницаемый разлом\"\n",
    "        ]\n",
    "\n",
    "        self.image_folders = glob.glob(os.path.join(self.image_dir, \"sample*\"))\n",
    "        self.pairs = []\n",
    "        for img_folder in tqdm(self.image_folders):\n",
    "            labels = np.load(os.path.join(img_folder, 'labels.npy'))\n",
    "            labels = labels # Оставляем только бинарные признаки\n",
    "            self.pairs.append((img_folder, labels))\n",
    "\n",
    "        # Compute class weights to handle imbalance\n",
    "        self.class_weights = self.compute_class_weights()\n",
    "\n",
    "    def compute_class_weights(self):\n",
    "        \"\"\" Computes inverse class frequencies to use in BCEWithLogitsLoss \"\"\"\n",
    "        labels = np.array([pair[1][:8] for pair in self.pairs])  # Extract labels\n",
    "        pos_counts = np.sum(labels, axis=0)  # Count occurrences of each class\n",
    "        neg_counts = labels.shape[0] - pos_counts  # Count negatives per class\n",
    "\n",
    "        pos_weight = neg_counts / (pos_counts + 1e-6)  # Avoid division by zero\n",
    "\n",
    "        return torch.tensor(pos_weight, dtype=torch.float32)\n",
    "    \n",
    "    def __len__(self):\n",
    "        return len(self.image_folders)\n",
    "\n",
    "    def __getitem__(self, idx):\n",
    "        img_folder_path, labels = self.pairs[idx]\n",
    "\n",
    "        image_plot = Image.open(os.path.join(img_folder_path, 'plot.png')).convert(\"RGB\")\n",
    "        \n",
    "        image_scatter = Image.open(os.path.join(img_folder_path, 'scatter.png')).convert(\"RGB\")\n",
    "\n",
    "        torch_plot = self.transform(image_plot)\n",
    "        torch_scatter = self.transform(image_scatter)\n",
    "    \n",
    "        res_img = torch.cat([torch_plot, torch_scatter], dim = 0)\n",
    "\n",
    "        if len(labels) > 15:\n",
    "            labels, starts_values = labels[:15], labels[15:]\n",
    "            return res_img, torch.tensor(labels, dtype=torch.float32), torch.tensor(starts_values, dtype=torch.float32)\n",
    "            \n",
    "        return res_img, torch.tensor(labels, dtype=torch.float32)"
   ]
  },
  {
   "cell_type": "markdown",
   "metadata": {},
   "source": [
    "## Create dataset and dataloader"
   ]
  },
  {
   "cell_type": "code",
   "execution_count": null,
   "metadata": {},
   "outputs": [],
   "source": [
    "transformer = transforms.Compose([\n",
    "    transforms.Resize((256, 256)),  # Изменяем размер до 256x256\n",
    "    # transforms.Grayscale(num_output_channels=1),\n",
    "    transforms.ToTensor()           # Преобразуем в тензор с диапазоном [0, 1]\n",
    "])"
   ]
  },
  {
   "cell_type": "code",
   "execution_count": null,
   "metadata": {},
   "outputs": [
    {
     "name": "stderr",
     "output_type": "stream",
     "text": [
      "100%|██████████| 257144/257144 [00:52<00:00, 4891.37it/s]\n"
     ]
    },
    {
     "data": {
      "text/plain": [
       "257144"
      ]
     },
     "metadata": {},
     "output_type": "display_data"
    }
   ],
   "source": [
    "dataset = ImageBinaryDataset('TriKotaiNarkota/TriKotaiNarkota')\n",
    "\n",
    "len(dataset)"
   ]
  },
  {
   "cell_type": "code",
   "execution_count": null,
   "metadata": {},
   "outputs": [
    {
     "data": {
      "text/plain": [
       "(torch.Size([6, 256, 256]), torch.Size([15]), torch.Size([24]))"
      ]
     },
     "metadata": {},
     "output_type": "display_data"
    }
   ],
   "source": [
    "dataset[0][0].size(), dataset[0][1].size(), dataset[0][2].size()"
   ]
  },
  {
   "cell_type": "code",
   "execution_count": null,
   "metadata": {},
   "outputs": [],
   "source": [
    "train_size = int(0.8 * len(dataset))\n",
    "test_size = len(dataset) - train_size\n",
    "train_dataset, test_dataset = torch.utils.data.random_split(dataset, [train_size, test_size])\n",
    "\n",
    "train_loader = DataLoader(train_dataset, batch_size=150, shuffle=True, num_workers=16, pin_memory=True)\n",
    "test_loader = DataLoader(test_dataset, batch_size=150, shuffle=False, num_workers=16, pin_memory=True)"
   ]
  },
  {
   "cell_type": "markdown",
   "metadata": {},
   "source": [
    "# Model"
   ]
  },
  {
   "cell_type": "code",
   "execution_count": null,
   "metadata": {},
   "outputs": [
    {
     "data": {
      "text/plain": [
       "(45141, 500)"
      ]
     },
     "metadata": {},
     "output_type": "display_data"
    }
   ],
   "source": [
    "markup_train = pd.read_csv('markup_train.csv')\n",
    "hq_markup_train = pd.read_csv('hq_markup_train.csv')\n",
    "\n",
    "len(markup_train), len(hq_markup_train)"
   ]
  },
  {
   "cell_type": "code",
   "execution_count": null,
   "metadata": {},
   "outputs": [
    {
     "data": {
      "text/html": [
       "<div>\n",
       "<style scoped>\n",
       "    .dataframe tbody tr th:only-of-type {\n",
       "        vertical-align: middle;\n",
       "    }\n",
       "\n",
       "    .dataframe tbody tr th {\n",
       "        vertical-align: top;\n",
       "    }\n",
       "\n",
       "    .dataframe thead th {\n",
       "        text-align: right;\n",
       "    }\n",
       "</style>\n",
       "<table border=\"1\" class=\"dataframe\">\n",
       "  <thead>\n",
       "    <tr style=\"text-align: right;\">\n",
       "      <th></th>\n",
       "      <th>Некачественное ГДИС</th>\n",
       "      <th>Влияние ствола скважины</th>\n",
       "      <th>Радиальный режим</th>\n",
       "      <th>Линейный режим</th>\n",
       "      <th>Билинейный режим</th>\n",
       "      <th>Сферический режим</th>\n",
       "      <th>Граница постоянного давления</th>\n",
       "      <th>Граница непроницаемый разлом</th>\n",
       "      <th>Влияние ствола скважины_details</th>\n",
       "      <th>Радиальный режим_details</th>\n",
       "      <th>Линейный режим_details</th>\n",
       "      <th>Билинейный режим_details</th>\n",
       "      <th>Сферический режим_details</th>\n",
       "      <th>Граница постоянного давления_details</th>\n",
       "      <th>Граница непроницаемый разлом_details</th>\n",
       "    </tr>\n",
       "  </thead>\n",
       "  <tbody>\n",
       "    <tr>\n",
       "      <th>count</th>\n",
       "      <td>45141.000000</td>\n",
       "      <td>45141.000000</td>\n",
       "      <td>45141.000000</td>\n",
       "      <td>45141.000000</td>\n",
       "      <td>45141.000000</td>\n",
       "      <td>45141.000000</td>\n",
       "      <td>45141.000000</td>\n",
       "      <td>45141.000000</td>\n",
       "      <td>35558.000000</td>\n",
       "      <td>25855.000000</td>\n",
       "      <td>12211.000000</td>\n",
       "      <td>12086.000000</td>\n",
       "      <td>5764.000000</td>\n",
       "      <td>4874.000000</td>\n",
       "      <td>4265.000000</td>\n",
       "    </tr>\n",
       "    <tr>\n",
       "      <th>mean</th>\n",
       "      <td>0.160984</td>\n",
       "      <td>0.787710</td>\n",
       "      <td>0.572761</td>\n",
       "      <td>0.270508</td>\n",
       "      <td>0.267739</td>\n",
       "      <td>0.127689</td>\n",
       "      <td>0.107973</td>\n",
       "      <td>0.094482</td>\n",
       "      <td>1.719234</td>\n",
       "      <td>1.140486</td>\n",
       "      <td>0.605509</td>\n",
       "      <td>0.934330</td>\n",
       "      <td>1.292040</td>\n",
       "      <td>144.019966</td>\n",
       "      <td>160.928583</td>\n",
       "    </tr>\n",
       "    <tr>\n",
       "      <th>std</th>\n",
       "      <td>0.367521</td>\n",
       "      <td>0.408934</td>\n",
       "      <td>0.494683</td>\n",
       "      <td>0.444227</td>\n",
       "      <td>0.442786</td>\n",
       "      <td>0.333747</td>\n",
       "      <td>0.310349</td>\n",
       "      <td>0.292501</td>\n",
       "      <td>1.537100</td>\n",
       "      <td>1.155191</td>\n",
       "      <td>1.012616</td>\n",
       "      <td>1.166539</td>\n",
       "      <td>0.982978</td>\n",
       "      <td>782.593841</td>\n",
       "      <td>339.370082</td>\n",
       "    </tr>\n",
       "    <tr>\n",
       "      <th>min</th>\n",
       "      <td>0.000000</td>\n",
       "      <td>0.000000</td>\n",
       "      <td>0.000000</td>\n",
       "      <td>0.000000</td>\n",
       "      <td>0.000000</td>\n",
       "      <td>0.000000</td>\n",
       "      <td>0.000000</td>\n",
       "      <td>0.000000</td>\n",
       "      <td>-3.843521</td>\n",
       "      <td>-3.707246</td>\n",
       "      <td>-4.109357</td>\n",
       "      <td>-3.332898</td>\n",
       "      <td>-5.164659</td>\n",
       "      <td>0.006653</td>\n",
       "      <td>0.010753</td>\n",
       "    </tr>\n",
       "    <tr>\n",
       "      <th>25%</th>\n",
       "      <td>0.000000</td>\n",
       "      <td>1.000000</td>\n",
       "      <td>0.000000</td>\n",
       "      <td>0.000000</td>\n",
       "      <td>0.000000</td>\n",
       "      <td>0.000000</td>\n",
       "      <td>0.000000</td>\n",
       "      <td>0.000000</td>\n",
       "      <td>0.914535</td>\n",
       "      <td>0.504870</td>\n",
       "      <td>0.028459</td>\n",
       "      <td>0.327374</td>\n",
       "      <td>0.743594</td>\n",
       "      <td>18.335495</td>\n",
       "      <td>29.301152</td>\n",
       "    </tr>\n",
       "    <tr>\n",
       "      <th>50%</th>\n",
       "      <td>0.000000</td>\n",
       "      <td>1.000000</td>\n",
       "      <td>1.000000</td>\n",
       "      <td>0.000000</td>\n",
       "      <td>0.000000</td>\n",
       "      <td>0.000000</td>\n",
       "      <td>0.000000</td>\n",
       "      <td>0.000000</td>\n",
       "      <td>1.589366</td>\n",
       "      <td>0.959171</td>\n",
       "      <td>0.516372</td>\n",
       "      <td>0.720093</td>\n",
       "      <td>1.296814</td>\n",
       "      <td>55.182021</td>\n",
       "      <td>75.822331</td>\n",
       "    </tr>\n",
       "    <tr>\n",
       "      <th>75%</th>\n",
       "      <td>0.000000</td>\n",
       "      <td>1.000000</td>\n",
       "      <td>1.000000</td>\n",
       "      <td>1.000000</td>\n",
       "      <td>1.000000</td>\n",
       "      <td>0.000000</td>\n",
       "      <td>0.000000</td>\n",
       "      <td>0.000000</td>\n",
       "      <td>2.256645</td>\n",
       "      <td>1.422883</td>\n",
       "      <td>1.024682</td>\n",
       "      <td>1.130444</td>\n",
       "      <td>1.808614</td>\n",
       "      <td>134.488126</td>\n",
       "      <td>182.395620</td>\n",
       "    </tr>\n",
       "    <tr>\n",
       "      <th>max</th>\n",
       "      <td>1.000000</td>\n",
       "      <td>1.000000</td>\n",
       "      <td>1.000000</td>\n",
       "      <td>1.000000</td>\n",
       "      <td>1.000000</td>\n",
       "      <td>1.000000</td>\n",
       "      <td>1.000000</td>\n",
       "      <td>1.000000</td>\n",
       "      <td>31.777765</td>\n",
       "      <td>6.408605</td>\n",
       "      <td>29.027806</td>\n",
       "      <td>29.129381</td>\n",
       "      <td>6.631359</td>\n",
       "      <td>51035.492870</td>\n",
       "      <td>11595.502940</td>\n",
       "    </tr>\n",
       "  </tbody>\n",
       "</table>\n",
       "</div>"
      ],
      "text/plain": [
       "       Некачественное ГДИС  Влияние ствола скважины  Радиальный режим  \\\n",
       "count         45141.000000             45141.000000      45141.000000   \n",
       "mean              0.160984                 0.787710          0.572761   \n",
       "std               0.367521                 0.408934          0.494683   \n",
       "min               0.000000                 0.000000          0.000000   \n",
       "25%               0.000000                 1.000000          0.000000   \n",
       "50%               0.000000                 1.000000          1.000000   \n",
       "75%               0.000000                 1.000000          1.000000   \n",
       "max               1.000000                 1.000000          1.000000   \n",
       "\n",
       "       Линейный режим  Билинейный режим  Сферический режим  \\\n",
       "count    45141.000000      45141.000000       45141.000000   \n",
       "mean         0.270508          0.267739           0.127689   \n",
       "std          0.444227          0.442786           0.333747   \n",
       "min          0.000000          0.000000           0.000000   \n",
       "25%          0.000000          0.000000           0.000000   \n",
       "50%          0.000000          0.000000           0.000000   \n",
       "75%          1.000000          1.000000           0.000000   \n",
       "max          1.000000          1.000000           1.000000   \n",
       "\n",
       "       Граница постоянного давления  Граница непроницаемый разлом  \\\n",
       "count                  45141.000000                  45141.000000   \n",
       "mean                       0.107973                      0.094482   \n",
       "std                        0.310349                      0.292501   \n",
       "min                        0.000000                      0.000000   \n",
       "25%                        0.000000                      0.000000   \n",
       "50%                        0.000000                      0.000000   \n",
       "75%                        0.000000                      0.000000   \n",
       "max                        1.000000                      1.000000   \n",
       "\n",
       "       Влияние ствола скважины_details  Радиальный режим_details  \\\n",
       "count                     35558.000000              25855.000000   \n",
       "mean                          1.719234                  1.140486   \n",
       "std                           1.537100                  1.155191   \n",
       "min                          -3.843521                 -3.707246   \n",
       "25%                           0.914535                  0.504870   \n",
       "50%                           1.589366                  0.959171   \n",
       "75%                           2.256645                  1.422883   \n",
       "max                          31.777765                  6.408605   \n",
       "\n",
       "       Линейный режим_details  Билинейный режим_details  \\\n",
       "count            12211.000000              12086.000000   \n",
       "mean                 0.605509                  0.934330   \n",
       "std                  1.012616                  1.166539   \n",
       "min                 -4.109357                 -3.332898   \n",
       "25%                  0.028459                  0.327374   \n",
       "50%                  0.516372                  0.720093   \n",
       "75%                  1.024682                  1.130444   \n",
       "max                 29.027806                 29.129381   \n",
       "\n",
       "       Сферический режим_details  Граница постоянного давления_details  \\\n",
       "count                5764.000000                           4874.000000   \n",
       "mean                    1.292040                            144.019966   \n",
       "std                     0.982978                            782.593841   \n",
       "min                    -5.164659                              0.006653   \n",
       "25%                     0.743594                             18.335495   \n",
       "50%                     1.296814                             55.182021   \n",
       "75%                     1.808614                            134.488126   \n",
       "max                     6.631359                          51035.492870   \n",
       "\n",
       "       Граница непроницаемый разлом_details  \n",
       "count                           4265.000000  \n",
       "mean                             160.928583  \n",
       "std                              339.370082  \n",
       "min                                0.010753  \n",
       "25%                               29.301152  \n",
       "50%                               75.822331  \n",
       "75%                              182.395620  \n",
       "max                            11595.502940  "
      ]
     },
     "metadata": {},
     "output_type": "display_data"
    }
   ],
   "source": [
    "markup_train.describe()"
   ]
  },
  {
   "cell_type": "code",
   "execution_count": null,
   "metadata": {},
   "outputs": [
    {
     "data": {
      "text/html": [
       "<div>\n",
       "<style scoped>\n",
       "    .dataframe tbody tr th:only-of-type {\n",
       "        vertical-align: middle;\n",
       "    }\n",
       "\n",
       "    .dataframe tbody tr th {\n",
       "        vertical-align: top;\n",
       "    }\n",
       "\n",
       "    .dataframe thead th {\n",
       "        text-align: right;\n",
       "    }\n",
       "</style>\n",
       "<table border=\"1\" class=\"dataframe\">\n",
       "  <thead>\n",
       "    <tr style=\"text-align: right;\">\n",
       "      <th></th>\n",
       "      <th>Влияние ствола скважины_details</th>\n",
       "      <th>Радиальный режим_details</th>\n",
       "      <th>Линейный режим_details</th>\n",
       "      <th>Билинейный режим_details</th>\n",
       "      <th>Сферический режим_details</th>\n",
       "      <th>Граница постоянного давления_details</th>\n",
       "      <th>Граница непроницаемый разлом_details</th>\n",
       "    </tr>\n",
       "  </thead>\n",
       "  <tbody>\n",
       "    <tr>\n",
       "      <th>0.05</th>\n",
       "      <td>-0.456332</td>\n",
       "      <td>-0.289947</td>\n",
       "      <td>-0.696055</td>\n",
       "      <td>-0.344091</td>\n",
       "      <td>-0.212926</td>\n",
       "      <td>2.517347</td>\n",
       "      <td>4.377187</td>\n",
       "    </tr>\n",
       "    <tr>\n",
       "      <th>0.95</th>\n",
       "      <td>5.495232</td>\n",
       "      <td>4.063072</td>\n",
       "      <td>2.154472</td>\n",
       "      <td>3.984768</td>\n",
       "      <td>2.709264</td>\n",
       "      <td>494.381095</td>\n",
       "      <td>554.024368</td>\n",
       "    </tr>\n",
       "  </tbody>\n",
       "</table>\n",
       "</div>"
      ],
      "text/plain": [
       "      Влияние ствола скважины_details  Радиальный режим_details  \\\n",
       "0.05                        -0.456332                 -0.289947   \n",
       "0.95                         5.495232                  4.063072   \n",
       "\n",
       "      Линейный режим_details  Билинейный режим_details  \\\n",
       "0.05               -0.696055                 -0.344091   \n",
       "0.95                2.154472                  3.984768   \n",
       "\n",
       "      Сферический режим_details  Граница постоянного давления_details  \\\n",
       "0.05                  -0.212926                              2.517347   \n",
       "0.95                   2.709264                            494.381095   \n",
       "\n",
       "      Граница непроницаемый разлом_details  \n",
       "0.05                              4.377187  \n",
       "0.95                            554.024368  "
      ]
     },
     "metadata": {},
     "output_type": "display_data"
    }
   ],
   "source": [
    "markup_train.iloc[:, -7:].quantile([0.05, 0.95])"
   ]
  },
  {
   "cell_type": "markdown",
   "metadata": {},
   "source": [
    "## Normalize"
   ]
  },
  {
   "cell_type": "code",
   "execution_count": null,
   "metadata": {},
   "outputs": [],
   "source": [
    "RANGES = [\n",
    "    (-0.5, 5.5),   # Влияние ствола скважины_details\n",
    "    (-0.3, 4.1),   # Радиальный режим_details\n",
    "    (-0.7, 2.2),   # Линейный режим_details\n",
    "    (-0.4, 4.0),   # Билинейный режим_details\n",
    "    (-0.3, 3.0),   # Сферический режим_details\n",
    "    (2.4,  495.0),  # Граница постоянного давления_details\n",
    "    (4.0,  555.0)   # Граница непроницаемый разлом_details\n",
    "]\n",
    "\n",
    "# Функция нормализации\n",
    "def normalize_labels(num_labels):\n",
    "    num_labels_scaled = num_labels.clone()  # Создаём копию\n",
    "    for i in range(7):\n",
    "        min_val, max_val = RANGES[i]\n",
    "        mask = num_labels[:, i] != -1000  # Только для валидных значений\n",
    "        num_labels_scaled[mask, i] = (num_labels[mask, i] - min_val) / (max_val - min_val)\n",
    "    return num_labels_scaled.clip(0, 1)  # Обрезаем значения до [0,1]\n",
    "\n",
    "# Функция обратного преобразования\n",
    "def denormalize_labels(pred_labels):\n",
    "    pred_labels_orig = pred_labels.clone()\n",
    "    for i in range(7):\n",
    "        min_val, max_val = RANGES[i]\n",
    "        pred_labels_orig[:, i] = pred_labels[:, i] * (max_val - min_val) + min_val\n",
    "    return pred_labels_orig"
   ]
  },
  {
   "cell_type": "markdown",
   "metadata": {},
   "source": [
    "## Create Model"
   ]
  },
  {
   "cell_type": "code",
   "execution_count": null,
   "metadata": {},
   "outputs": [],
   "source": [
    "# Определение модели\n",
    "class MultiTaskResNet(nn.Module):\n",
    "    def __init__(self, pretrained=False):\n",
    "        super().__init__()\n",
    "        self.base = models.resnet101(pretrained=pretrained)\n",
    "\n",
    "        # Преобразуем первый слой под 2 канала\n",
    "        orig_conv = self.base.conv1\n",
    "        new_conv = nn.Conv2d(\n",
    "            in_channels=6,\n",
    "            out_channels=orig_conv.out_channels,\n",
    "            kernel_size=orig_conv.kernel_size,\n",
    "            stride=orig_conv.stride,\n",
    "            padding=orig_conv.padding,\n",
    "            bias=orig_conv.bias\n",
    "        )\n",
    "        with torch.no_grad():\n",
    "            new_conv.weight[:, :3, :, :] = orig_conv.weight[:, :3, :, :]\n",
    "            new_conv.weight[:, 3:, :, :] = orig_conv.weight[:, :3, :, :]\n",
    "        self.base.conv1 = new_conv\n",
    "\n",
    "        # Финальный FC: 15 выходов (8 – бинарные, 7 – регрессия)\n",
    "        num_feats = self.base.fc.in_features\n",
    "        self.base.fc = nn.Identity()\n",
    "        \n",
    "        self.binary = nn.Sequential(\n",
    "            nn.Linear(num_feats, 512),\n",
    "            nn.BatchNorm1d(512),\n",
    "            nn.LeakyReLU(0.1),\n",
    "            \n",
    "            nn.Linear(512, 256),\n",
    "            nn.BatchNorm1d(256),\n",
    "            nn.LeakyReLU(0.1),\n",
    "\n",
    "            nn.Linear(256, 128),\n",
    "            nn.BatchNorm1d(128),\n",
    "            nn.LeakyReLU(0.1),\n",
    "\n",
    "            nn.Linear(128, 64),\n",
    "            nn.BatchNorm1d(64),\n",
    "            nn.LeakyReLU(0.1),\n",
    "\n",
    "            nn.Linear(64, 8),\n",
    "        )\n",
    "\n",
    "        self.resgresion = nn.Sequential(\n",
    "            nn.Linear(num_feats + 24, 512),\n",
    "            nn.BatchNorm1d(512),\n",
    "            nn.LeakyReLU(0.1),\n",
    "\n",
    "            nn.Linear(512, 256),\n",
    "            nn.BatchNorm1d(256),\n",
    "            nn.LeakyReLU(0.1),\n",
    "\n",
    "            nn.Linear(256, 128),\n",
    "            nn.BatchNorm1d(128),\n",
    "            nn.LeakyReLU(0.1),\n",
    "\n",
    "            nn.Linear(128, 64),\n",
    "            nn.BatchNorm1d(64),\n",
    "            nn.LeakyReLU(0.1),\n",
    "\n",
    "            nn.Linear(64, 7),\n",
    "        )\n",
    "\n",
    "    def forward(self, x, start_values  = None):\n",
    "        out = self.base(x)\n",
    "        \n",
    "        logits_8 = self.binary(out)\n",
    "        if start_values is None:\n",
    "            regr_7   = torch.sigmoid(self.resgresion(torch.cat((out, torch.zeros(x.size()[0], 24)), axis = 1)))\n",
    "        else:\n",
    "            regr_7   =  torch.sigmoid(self.resgresion(torch.cat((out, start_values), axis = 1)))\n",
    "        return logits_8, regr_7"
   ]
  },
  {
   "cell_type": "code",
   "execution_count": null,
   "metadata": {},
   "outputs": [
    {
     "name": "stderr",
     "output_type": "stream",
     "text": [
      "/usr/lib/python3/dist-packages/torchvision/models/_utils.py:208: UserWarning: The parameter 'pretrained' is deprecated since 0.13 and may be removed in the future, please use 'weights' instead.\n",
      "  warnings.warn(\n",
      "/usr/lib/python3/dist-packages/torchvision/models/_utils.py:223: UserWarning: Arguments other than a weight enum or `None` for 'weights' are deprecated since 0.13 and may be removed in the future. The current behavior is equivalent to passing `weights=None`.\n",
      "  warnings.warn(msg)\n"
     ]
    }
   ],
   "source": [
    "model = MultiTaskResNet()"
   ]
  },
  {
   "cell_type": "code",
   "execution_count": null,
   "metadata": {},
   "outputs": [
    {
     "data": {
      "text/plain": [
       "<All keys matched successfully>"
      ]
     },
     "metadata": {},
     "output_type": "display_data"
    }
   ],
   "source": [
    "model.load_state_dict(\n",
    "    torch.load(\n",
    "        'models/resnet18_300v5_0.9478026046710444_0.9995309066868887.pth',\n",
    "        weights_only = True,\n",
    "        map_location = 'cpu',\n",
    "    )\n",
    ")"
   ]
  },
  {
   "cell_type": "code",
   "execution_count": null,
   "metadata": {},
   "outputs": [],
   "source": [
    "# from accelerate import Accelerator\n",
    "# accelerator = Accelerator(mixed_precision=\"fp16\")\n",
    "\n",
    "device = 'cuda'\n",
    "model = model.to(device)\n",
    "\n",
    "pos_weight = dataset.compute_class_weights().to(device)\n",
    "\n",
    "criterion = nn.BCEWithLogitsLoss(pos_weight=pos_weight)\n",
    "optimizer = optim.Adam(model.parameters(), lr=0.001)\n",
    "\n",
    "scheduler = StepLR(optimizer, step_size=8, gamma=0.4)"
   ]
  },
  {
   "cell_type": "markdown",
   "metadata": {},
   "source": [
    "## multitask_loss_function"
   ]
  },
  {
   "cell_type": "code",
   "execution_count": null,
   "metadata": {},
   "outputs": [],
   "source": [
    "pos_weight = dataset.compute_class_weights().to(device)\n",
    "\n",
    "def multitask_loss_function(logits_8, regr_7, bin_labels_8, num_labels_7, alpha_mse=1.0, alpha_mae = 0.5):\n",
    "    bce = nn.BCEWithLogitsLoss(pos_weight=pos_weight)\n",
    "    \n",
    "    loss_class = bce(logits_8, bin_labels_8)\n",
    "\n",
    "    valid_mask = (num_labels_7 != -1000)\n",
    "\n",
    "    phenomenon_present_mask = torch.zeros_like(valid_mask)\n",
    "    for i in range(7):\n",
    "        phenomenon_present_mask[:, i] = (bin_labels_8[:, i+1] > 0.5)\n",
    "\n",
    "    final_mask = valid_mask & phenomenon_present_mask\n",
    "\n",
    "    regr_active = regr_7[final_mask]\n",
    "    gt_active   = num_labels_7[final_mask]\n",
    "\n",
    "    if regr_active.numel() > 0:\n",
    "        mse = nn.MSELoss()(regr_active, gt_active)\n",
    "        mae = nn.L1Loss()(regr_active, gt_active)\n",
    "    else:\n",
    "        mse = torch.tensor(0.0, device=logits_8.device)\n",
    "        mae = torch.tensor(0.0, device=logits_8.device)\n",
    "\n",
    "    total_loss = loss_class + alpha_mse * mse + alpha_mae * mae\n",
    "    return total_loss, loss_class.item(), mse.item(), mae.item()"
   ]
  },
  {
   "cell_type": "markdown",
   "metadata": {},
   "source": [
    "## custom_binary_accuracy\n"
   ]
  },
  {
   "cell_type": "code",
   "execution_count": null,
   "metadata": {},
   "outputs": [],
   "source": [
    "def custom_binary_accuracy(y_true, y_pred):\n",
    "    \n",
    "    correct_presence = (y_true == 1) & (y_pred == 1)  \n",
    "    correct_absence = (y_true == 0) & (y_pred == 0) \n",
    "    \n",
    "    correct_predictions = np.sum(correct_presence) + np.sum(correct_absence)\n",
    "    total_samples = y_true.size  \n",
    "\n",
    "    return correct_predictions / total_samples"
   ]
  },
  {
   "cell_type": "markdown",
   "metadata": {},
   "source": [
    "## custom_binary_accuracy_xlop"
   ]
  },
  {
   "cell_type": "code",
   "execution_count": null,
   "metadata": {},
   "outputs": [],
   "source": []
  },
  {
   "cell_type": "code",
   "execution_count": null,
   "metadata": {},
   "outputs": [],
   "source": [
    "def case_score(bin_true, bin_pred, num_true, num_pred):\n",
    "    y_tp_0 = np.expand_dims((bin_pred[:, 0] == 1) & (bin_true[:, 0] == 1), axis = 1)\n",
    "    y_tp_1_7 = (bin_pred[:, 1:] == 1) & (bin_true[:, 1:] == 1) & (abs(num_pred-num_true) <= 0.15)\n",
    "    \n",
    "    y_tp = np.concatenate((y_tp_0, y_tp_1_7), axis = 1)\n",
    "    y_tp = np.sum(y_tp)\n",
    "    \n",
    "    y_fp_0 = np.expand_dims((bin_pred[:, 0] == 1) & (bin_true[:, 0] == 0), axis = 1)\n",
    "    y_fp_1_7 = (bin_pred[:, 1:] == 1) & ((bin_true[:, 1:] == 0) | (abs(num_pred-num_true) > 0.15))\n",
    "    \n",
    "    y_fp = np.concatenate((y_fp_0, y_fp_1_7), axis = 1)\n",
    "    y_fp = np.sum(y_fp)\n",
    "    \n",
    "    y_fn_0 = np.expand_dims((bin_pred[:, 0] == 0) & (bin_true[:, 0] == 1), axis = 1)\n",
    "    y_fn_1_7 = ((bin_pred[:, 1:] == 0) | (abs(num_pred-num_true) > 0.15)) & (bin_true[:, 1:] == 1)\n",
    "\n",
    "    y_fn = np.concatenate((y_fn_0, y_fn_1_7), axis = 1)\n",
    "    y_fn = np.sum(y_fn)\n",
    "    \n",
    "    press = y_tp / (y_tp + y_fp)\n",
    "    \n",
    "    recall = y_tp / (y_tp + y_fn)\n",
    "    \n",
    "    f1 = 2 * press * recall / (press + recall)\n",
    "    return f1"
   ]
  },
  {
   "cell_type": "markdown",
   "metadata": {},
   "source": [
    "# Train Loop"
   ]
  },
  {
   "cell_type": "code",
   "execution_count": null,
   "metadata": {},
   "outputs": [],
   "source": [
    "name='resnet18_300v5'\n",
    "num_epochs=25\n",
    "alpha_mse= 1\n",
    "alpha_mae = 1"
   ]
  },
  {
   "cell_type": "markdown",
   "metadata": {},
   "source": [
    "Изменения:\n",
    "- Добавил две головы в модель\n",
    "- Для расчета регрессионных фичей используются начальные данные, они добавленны в датасет, и подаеются в модель\n",
    "- Данные не нормируются, так как становится не понятно реальное mse, mae\n"
   ]
  },
  {
   "cell_type": "code",
   "execution_count": null,
   "metadata": {},
   "outputs": [],
   "source": [
    "torch.cuda.empty_cache()"
   ]
  },
  {
   "cell_type": "code",
   "execution_count": null,
   "metadata": {},
   "outputs": [
    {
     "name": "stderr",
     "output_type": "stream",
     "text": [
      "Epoch 1/25 [Training]: 100%|██████████| 1372/1372 [27:35<00:00,  1.21s/it]\n"
     ]
    },
    {
     "name": "stdout",
     "output_type": "stream",
     "text": [
      "Epoch 1/25 - Loss: 0.063018 (BCE=0.0418, MSE=0.0009, MAE=0.0203)\n"
     ]
    },
    {
     "name": "stderr",
     "output_type": "stream",
     "text": [
      "Epoch 1/25 [Validation]: 100%|██████████| 343/343 [01:45<00:00,  3.26it/s]\n"
     ]
    },
    {
     "name": "stdout",
     "output_type": "stream",
     "text": [
      "Val Accuracy: 0.8147, Val Macro-F1: 0.9579\n",
      "Val Numeric Within ±10%: 0.5567\n",
      "Binary score: 0.9742\n",
      "Case score: 0.5806\n",
      "Final score: 0.8490\n"
     ]
    },
    {
     "name": "stderr",
     "output_type": "stream",
     "text": [
      "Epoch 2/25 [Training]: 100%|██████████| 1372/1372 [27:38<00:00,  1.21s/it]\n"
     ]
    },
    {
     "name": "stdout",
     "output_type": "stream",
     "text": [
      "Epoch 2/25 - Loss: 0.061182 (BCE=0.0403, MSE=0.0009, MAE=0.0200)\n"
     ]
    },
    {
     "name": "stderr",
     "output_type": "stream",
     "text": [
      "Epoch 2/25 [Validation]: 100%|██████████| 343/343 [01:44<00:00,  3.28it/s]\n"
     ]
    },
    {
     "name": "stdout",
     "output_type": "stream",
     "text": [
      "Val Accuracy: 0.8896, Val Macro-F1: 0.9804\n",
      "Val Numeric Within ±10%: 0.6262\n",
      "Binary score: 0.9853\n",
      "Case score: 0.6571\n",
      "Final score: 0.8775\n"
     ]
    },
    {
     "name": "stderr",
     "output_type": "stream",
     "text": [
      "Epoch 3/25 [Training]:  81%|████████  | 1105/1372 [22:15<05:20,  1.20s/it]"
     ]
    }
   ],
   "source": [
    "for epoch in range(num_epochs):\n",
    "    model.train()\n",
    "    running_loss = 0.0\n",
    "    mse_epoch_loss = 0.0\n",
    "    mae_epoch_loss = 0.0\n",
    "    bce_epoch_loss = 0.0\n",
    "    for images, labels, start_values in tqdm(train_loader, desc=f\"Epoch {epoch+1}/{num_epochs} [Training]\"):\n",
    "        model.to(device)\n",
    "        images       = images.to(device)  # shape [B, 2, H, W]\n",
    "        start_values = start_values.to(device)\n",
    "        bin_labels   = labels[:, 0:8].to(device)  # Binary classification labels\n",
    "        num_labels   = labels[:, 8:15].to(device) # shape [B, 7]\n",
    "\n",
    "        # **Нормализация числовых меток**\n",
    "        num_labels = normalize_labels(num_labels) \n",
    "\n",
    "        optimizer.zero_grad()\n",
    "\n",
    "        # Forward pass\n",
    "        logits_8, regr_7 = model(images, start_values)\n",
    " \n",
    "        total_loss, bce_val, mse_val, mae_val = multitask_loss_function(\n",
    "            logits_8, regr_7, bin_labels, num_labels, alpha_mse=alpha_mse, alpha_mae = alpha_mae\n",
    "        )\n",
    "\n",
    "        # Backprop\n",
    "        total_loss.backward()\n",
    "        optimizer.step()\n",
    "\n",
    "        running_loss   += total_loss.item() * images.size(0)\n",
    "        mse_epoch_loss += mse_val * images.size(0)\n",
    "        mae_epoch_loss += mae_val * images.size(0)\n",
    "        bce_epoch_loss += bce_val * images.size(0)\n",
    "        torch.cuda.empty_cache()\n",
    "\n",
    "    scheduler.step()\n",
    "    running_loss   /= len(train_loader.dataset)\n",
    "    mse_epoch_loss /= len(train_loader.dataset)\n",
    "    mae_epoch_loss /= len(train_loader.dataset)\n",
    "    bce_epoch_loss /= len(train_loader.dataset)\n",
    "\n",
    "    print(f\"Epoch {epoch+1}/{num_epochs} - Loss: {running_loss:.6f} (BCE={bce_epoch_loss:.4f}, MSE={mse_epoch_loss:.4f}, MAE={mae_epoch_loss:.4f})\")\n",
    "\n",
    "    # **Валидация**\n",
    "    model.eval()\n",
    "    with torch.no_grad():\n",
    "        all_preds_bin = []\n",
    "        all_true_bin  = []\n",
    "        all_preds_num = []\n",
    "        all_true_num  = []\n",
    "        all_presence_mask = []\n",
    "\n",
    "        for images, labels, start_values in tqdm(test_loader, desc=f\"Epoch {epoch+1}/{num_epochs} [Validation]\"):\n",
    "            images       = images.to(device)\n",
    "            start_values = start_values.to(device)\n",
    "            bin_labels   = labels[:, 0:8].to(device)  # Binary classification labels\n",
    "            num_labels   = labels[:, 8:15].to(device)\n",
    "\n",
    "            # **Нормализация**\n",
    "            # num_labels = normalize_labels(num_labels)\n",
    "\n",
    "            logits_8, regr_7 = model(images, start_values)\n",
    "\n",
    "            # Классификация\n",
    "            pred_bin = torch.sigmoid(logits_8)\n",
    "            pred_bin = (pred_bin > 0.5).float()\n",
    "\n",
    "            all_preds_bin.append(pred_bin.cpu())\n",
    "            all_true_bin.append(bin_labels.cpu())\n",
    "\n",
    "            # Регрессия: **обратное масштабирование**\n",
    "            regr_7_orig = denormalize_labels(regr_7)\n",
    "\n",
    "            all_preds_num.append(regr_7_orig.cpu())\n",
    "            all_true_num.append(num_labels.cpu())  # Не забудь тоже вернуть в оригинал при анализе!\n",
    "            presence_mask = ((bin_labels[:, 1:] > 0.5) & (num_labels != -1000)).cpu()\n",
    "            all_presence_mask.append(presence_mask)\n",
    "\n",
    "        # **Анализ предсказаний**\n",
    "        all_preds_bin = torch.cat(all_preds_bin, dim=0).numpy()\n",
    "        all_true_bin  = torch.cat(all_true_bin, dim=0).numpy()\n",
    "\n",
    "        val_acc = accuracy_score(all_true_bin, all_preds_bin)\n",
    "        f1_macro = f1_score(all_true_bin, all_preds_bin, average=\"macro\")\n",
    "\n",
    "        # **Обратная денормализация на финальном этапе**\n",
    "        all_preds_num = torch.cat(all_preds_num, dim=0).numpy()\n",
    "        all_true_num  = torch.cat(all_true_num, dim=0).numpy()\n",
    "        all_presence_mask = torch.cat(all_presence_mask, dim=0).numpy()\n",
    "\n",
    "        within_10pct_count = 0\n",
    "        total_present = 0\n",
    "        for i in range(all_true_num.shape[0]):\n",
    "            for j in range(all_true_num.shape[1]):\n",
    "                if all_presence_mask[i, j]:\n",
    "                    gt = all_true_num[i, j]\n",
    "                    pr = all_preds_num[i, j]\n",
    "                    rel_err = abs(pr - gt) / (abs(gt) + 1e-9)\n",
    "                    if rel_err <= 0.13:\n",
    "                        within_10pct_count += 1\n",
    "                    total_present += 1\n",
    "        numeric_within_10pct = within_10pct_count / total_present if total_present > 0 else 0.0\n",
    "\n",
    "        print(f\"Val Accuracy: {val_acc:.4f}, Val Macro-F1: {f1_macro:.4f}\")\n",
    "        print(f\"Val Numeric Within ±10%: {numeric_within_10pct:.4f}\")\n",
    "\n",
    "        binary_score      = custom_binary_accuracy(all_true_bin, all_preds_bin)\n",
    "        binary_score_xlop = custom_binary_accuracy_xlop(all_true_bin, all_preds_bin, all_true_num, all_preds_num)\n",
    "        numeric_score     = numeric_within_10pct  \n",
    "        final_score       = 0.7 * binary_score + 0.3 * numeric_score\n",
    "        print(f\"Binary score: {binary_score:.4f}\")\n",
    "        print(f'Case score: {binary_score_xlop:.4f}')\n",
    "        print(f\"Final score: {final_score:.4f}\")\n",
    "\n",
    "    torch.save(model.state_dict(), f\"models/{name}_{final_score}_{binary_score}.pth\")"
   ]
  },
  {
   "cell_type": "code",
   "execution_count": null,
   "metadata": {},
   "outputs": [],
   "source": []
  }
 ],
 "metadata": {
  "language_info": {
   "name": "python"
  }
 },
 "nbformat": 4,
 "nbformat_minor": 2
}
